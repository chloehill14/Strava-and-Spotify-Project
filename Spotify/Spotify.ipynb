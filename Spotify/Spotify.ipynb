{
 "cells": [
  {
   "cell_type": "markdown",
   "metadata": {},
   "source": [
    "SPOTIFY\n",
    "\n",
    "I decided to add my Spotify listening data to my Strava data. \n",
    "I requested my extended listening history from Spotify and this code cleans up that data."
   ]
  },
  {
   "cell_type": "code",
   "execution_count": null,
   "metadata": {},
   "outputs": [],
   "source": [
    "import pandas as pd\n",
    "import numpy as np"
   ]
  },
  {
   "cell_type": "code",
   "execution_count": null,
   "metadata": {},
   "outputs": [],
   "source": [
    "#Read in all the files\n",
    "\n",
    "video_file = \"Spotify Extended Streaming History/Streaming_History_Video_2018-2024.json\"\n",
    "audio_0_file = \"Spotify Extended Streaming History/Streaming_History_Audio_2018-2023_0.json\"\n",
    "audio_1_file = \"Spotify Extended Streaming History/Streaming_History_Audio_2023-2024_1.json\"\n",
    "audio_2_file = \"Spotify Extended Streaming History/Streaming_History_Audio_2024-2025_2.json\"\n",
    "audio_0_raw = open(audio_0_file, encoding = 'cp850')\n",
    "print(audio_0_raw)\n",
    "audio_0 = pd.read_json(audio_0_raw)\n",
    "\n",
    "audio_1_raw = open(audio_1_file, encoding = 'cp850')\n",
    "print(audio_1_raw)\n",
    "audio_1 = pd.read_json(audio_1_raw)\n",
    "\n",
    "audio_2_raw = open(audio_2_file, encoding = 'cp850')\n",
    "print(audio_2_raw)\n",
    "audio_2 = pd.read_json(audio_2_raw)"
   ]
  },
  {
   "cell_type": "code",
   "execution_count": null,
   "metadata": {},
   "outputs": [],
   "source": [
    "#Stack the separate files into one dataset\n",
    "\n",
    "audio = pd.concat([audio_0, audio_1, audio_2], axis=0)"
   ]
  },
  {
   "cell_type": "markdown",
   "metadata": {},
   "source": [
    "Do a few sense checks:"
   ]
  },
  {
   "cell_type": "code",
   "execution_count": null,
   "metadata": {},
   "outputs": [],
   "source": [
    "audio.columns"
   ]
  },
  {
   "cell_type": "code",
   "execution_count": null,
   "metadata": {},
   "outputs": [],
   "source": [
    "audio.shape"
   ]
  },
  {
   "cell_type": "code",
   "execution_count": null,
   "metadata": {},
   "outputs": [],
   "source": [
    "audio.mean(numeric_only=True)"
   ]
  },
  {
   "cell_type": "code",
   "execution_count": null,
   "metadata": {},
   "outputs": [],
   "source": [
    "audio.dtypes"
   ]
  },
  {
   "cell_type": "markdown",
   "metadata": {},
   "source": [
    "Clean up and save the file:"
   ]
  },
  {
   "cell_type": "code",
   "execution_count": null,
   "metadata": {},
   "outputs": [],
   "source": [
    "audio[\"ts\"] = pd.to_datetime(audio[\"ts\"])"
   ]
  },
  {
   "cell_type": "code",
   "execution_count": null,
   "metadata": {},
   "outputs": [],
   "source": [
    "audio[\"ts\"].max()"
   ]
  },
  {
   "cell_type": "code",
   "execution_count": null,
   "metadata": {},
   "outputs": [],
   "source": [
    "cols = [\"ts\", \"ms_played\", \"master_metadata_track_name\", \"master_metadata_album_artist_name\",\n",
    "        \"master_metadata_album_album_name\", \"spotify_track_uri\", \"episode_name\", \"shuffle\", \"skipped\"]\n",
    "audio = audio[cols]\n",
    "audio = audio.rename(columns = {\"master_metadata_track_name\" : \"track_name\", \n",
    "                                \"master_metadata_album_artist_name\" : \"artist_name\",\n",
    "                                \"master_metadata_album_album_name\" : \"album_name\",\n",
    "                               })"
   ]
  },
  {
   "cell_type": "code",
   "execution_count": null,
   "metadata": {},
   "outputs": [],
   "source": [
    "print(audio.dtypes)\n",
    "print(audio.head)"
   ]
  },
  {
   "cell_type": "code",
   "execution_count": null,
   "metadata": {},
   "outputs": [],
   "source": [
    "audio.to_csv(\"Audio.csv\")"
   ]
  },
  {
   "cell_type": "code",
   "execution_count": null,
   "metadata": {},
   "outputs": [],
   "source": []
  }
 ],
 "metadata": {
  "kernelspec": {
   "display_name": "Python [conda env:base] *",
   "language": "python",
   "name": "conda-base-py"
  },
  "language_info": {
   "codemirror_mode": {
    "name": "ipython",
    "version": 3
   },
   "file_extension": ".py",
   "mimetype": "text/x-python",
   "name": "python",
   "nbconvert_exporter": "python",
   "pygments_lexer": "ipython3",
   "version": "3.12.7"
  }
 },
 "nbformat": 4,
 "nbformat_minor": 4
}
