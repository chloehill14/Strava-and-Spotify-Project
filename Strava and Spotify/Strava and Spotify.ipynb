{
 "cells": [
  {
   "cell_type": "markdown",
   "metadata": {},
   "source": [
    "STRAVA AND SPOTIFY\n",
    "\n",
    "This is the code that takes my cleaned up Strava and Spotify data and combines them.\n",
    "Check out the \"Strava\" and \"Spotify\" files first to see how I prepared the input data files for this code."
   ]
  },
  {
   "cell_type": "code",
   "execution_count": null,
   "metadata": {},
   "outputs": [],
   "source": [
    "import pandas as pd\n",
    "import numpy as np\n",
    "from datetime import timedelta"
   ]
  },
  {
   "cell_type": "markdown",
   "metadata": {},
   "source": [
    "AUDIO\n",
    "\n",
    "Read in and clean up the audio data from Spotify"
   ]
  },
  {
   "cell_type": "code",
   "execution_count": null,
   "metadata": {},
   "outputs": [],
   "source": [
    "audio_file = \"../Spotify/Audio.csv\"\n",
    "audio_raw = pd.read_csv(audio_file)\n",
    "audio = audio_raw"
   ]
  },
  {
   "cell_type": "code",
   "execution_count": null,
   "metadata": {},
   "outputs": [],
   "source": [
    "audio.dtypes"
   ]
  },
  {
   "cell_type": "code",
   "execution_count": null,
   "metadata": {},
   "outputs": [],
   "source": [
    "audio[\"ts\"] = pd.to_datetime(audio[\"ts\"])\n",
    "audio.dtypes"
   ]
  },
  {
   "cell_type": "code",
   "execution_count": null,
   "metadata": {},
   "outputs": [],
   "source": [
    "audio.info"
   ]
  },
  {
   "cell_type": "markdown",
   "metadata": {},
   "source": [
    "STRAVA ACTIVITIES\n",
    "\n",
    "Get a list of all Strava activity IDs with start date and time and end date and time (using elapsed time)"
   ]
  },
  {
   "cell_type": "code",
   "execution_count": null,
   "metadata": {
    "scrolled": true
   },
   "outputs": [],
   "source": [
    "all_activities_file = \"../Strava/all_activities_df.csv\"\n",
    "all_activities_raw = pd.read_csv(all_activities_file)\n",
    "all_activities_raw.head"
   ]
  },
  {
   "cell_type": "code",
   "execution_count": null,
   "metadata": {},
   "outputs": [],
   "source": [
    "all_activities_raw.dtypes"
   ]
  },
  {
   "cell_type": "code",
   "execution_count": null,
   "metadata": {},
   "outputs": [],
   "source": [
    "#Start date and time\n",
    "\n",
    "all_activities = all_activities_raw\n",
    "all_activities[\"start_date\"] = pd.to_datetime(all_activities[\"start_date\"])\n",
    "all_activities[\"start_date\"].head"
   ]
  },
  {
   "cell_type": "code",
   "execution_count": null,
   "metadata": {},
   "outputs": [],
   "source": [
    "#Elapsed Time\n",
    "\n",
    "all_activities[\"elapsed_timedelta\"] = pd.to_timedelta(all_activities[\"elapsed_time\"]*1000000000)\n",
    "all_activities[\"elapsed_timedelta\"].head"
   ]
  },
  {
   "cell_type": "code",
   "execution_count": null,
   "metadata": {},
   "outputs": [],
   "source": [
    "#End date and time\n",
    "\n",
    "all_activities[\"end_date\"] = all_activities[\"start_date\"] + all_activities[\"elapsed_timedelta\"]\n",
    "all_activities[\"end_date\"].head"
   ]
  },
  {
   "cell_type": "code",
   "execution_count": null,
   "metadata": {},
   "outputs": [],
   "source": [
    "all_activities.dtypes"
   ]
  },
  {
   "cell_type": "code",
   "execution_count": null,
   "metadata": {},
   "outputs": [],
   "source": [
    "#Just need ID, Start datetime and End datetime\n",
    "\n",
    "act_cols = [\"id\", \"start_date\", \"end_date\"]\n",
    "all_activities = all_activities[act_cols]"
   ]
  },
  {
   "cell_type": "code",
   "execution_count": null,
   "metadata": {},
   "outputs": [],
   "source": [
    "all_activities.info"
   ]
  },
  {
   "cell_type": "markdown",
   "metadata": {},
   "source": [
    "JOIN DATA\n",
    "\n",
    "Join Audio data from Spotify to list of Strava activities.\n",
    "Filter to audio from the time period of each activity."
   ]
  },
  {
   "cell_type": "code",
   "execution_count": null,
   "metadata": {},
   "outputs": [],
   "source": [
    "audio = audio.assign(join_col = \"a\")\n",
    "all_activities = all_activities.assign(join_col = \"a\")"
   ]
  },
  {
   "cell_type": "code",
   "execution_count": null,
   "metadata": {},
   "outputs": [],
   "source": [
    "activities_with_audio_MEGA = all_activities.merge(audio, on = \"join_col\", suffixes = (\"_act\", \"_aud\"))"
   ]
  },
  {
   "cell_type": "code",
   "execution_count": null,
   "metadata": {},
   "outputs": [],
   "source": [
    "activities_with_audio_MEGA.columns"
   ]
  },
  {
   "cell_type": "code",
   "execution_count": null,
   "metadata": {},
   "outputs": [],
   "source": [
    "activities_with_audio_MEGA.shape"
   ]
  },
  {
   "cell_type": "code",
   "execution_count": null,
   "metadata": {},
   "outputs": [],
   "source": [
    "activities_with_audio = activities_with_audio_MEGA[activities_with_audio_MEGA[\"ts\"] > activities_with_audio_MEGA[\"start_date\"]]"
   ]
  },
  {
   "cell_type": "code",
   "execution_count": null,
   "metadata": {},
   "outputs": [],
   "source": [
    "activities_with_audio.shape"
   ]
  },
  {
   "cell_type": "code",
   "execution_count": null,
   "metadata": {},
   "outputs": [],
   "source": [
    "activities_with_audio = activities_with_audio[activities_with_audio[\"ts\"] < activities_with_audio[\"end_date\"]]"
   ]
  },
  {
   "cell_type": "code",
   "execution_count": null,
   "metadata": {},
   "outputs": [],
   "source": [
    "activities_with_audio.shape"
   ]
  },
  {
   "cell_type": "code",
   "execution_count": null,
   "metadata": {},
   "outputs": [],
   "source": [
    "activities_with_audio[\"id\"].nunique()"
   ]
  },
  {
   "cell_type": "code",
   "execution_count": null,
   "metadata": {},
   "outputs": [],
   "source": [
    "activities_with_audio.to_csv(\"activities_with_audio.csv\")"
   ]
  },
  {
   "cell_type": "markdown",
   "metadata": {},
   "source": [
    "JOIN ACTIVITIES WITH AUDIO TO MAIN ACTIVITIES WITH PHOTOS FILE"
   ]
  },
  {
   "cell_type": "code",
   "execution_count": null,
   "metadata": {},
   "outputs": [],
   "source": [
    "all_activities_with_photos_file = \"../Strava/all_activities_with_photos.csv\"\n",
    "all_activities_with_photos_raw = pd.read_csv(all_activities_with_photos_file)"
   ]
  },
  {
   "cell_type": "code",
   "execution_count": null,
   "metadata": {},
   "outputs": [],
   "source": [
    "all_activities_with_photos_raw.info"
   ]
  },
  {
   "cell_type": "code",
   "execution_count": null,
   "metadata": {},
   "outputs": [],
   "source": [
    "all_activities_with_photos = all_activities_with_photos_raw\n",
    "all_activities_with_photos.dtypes"
   ]
  },
  {
   "cell_type": "code",
   "execution_count": null,
   "metadata": {},
   "outputs": [],
   "source": [
    "all_activities_with_photos_and_audio = all_activities_with_photos.merge(activities_with_audio, how =  \"left\",  on = \"id\")"
   ]
  },
  {
   "cell_type": "code",
   "execution_count": null,
   "metadata": {},
   "outputs": [],
   "source": [
    "all_activities_with_photos_and_audio.shape"
   ]
  },
  {
   "cell_type": "code",
   "execution_count": null,
   "metadata": {},
   "outputs": [],
   "source": [
    "all_activities_with_photos_and_audio.to_csv(\"all_activities_with_photos_and_audio.csv\")"
   ]
  }
 ],
 "metadata": {
  "kernelspec": {
   "display_name": "Python [conda env:base] *",
   "language": "python",
   "name": "conda-base-py"
  },
  "language_info": {
   "codemirror_mode": {
    "name": "ipython",
    "version": 3
   },
   "file_extension": ".py",
   "mimetype": "text/x-python",
   "name": "python",
   "nbconvert_exporter": "python",
   "pygments_lexer": "ipython3",
   "version": "3.12.7"
  }
 },
 "nbformat": 4,
 "nbformat_minor": 4
}
